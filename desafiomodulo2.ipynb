{
  "nbformat": 4,
  "nbformat_minor": 0,
  "metadata": {
    "colab": {
      "name": "desafiomodulo2.ipynb",
      "provenance": []
    },
    "kernelspec": {
      "name": "python3",
      "display_name": "Python 3"
    },
    "language_info": {
      "name": "python"
    }
  },
  "cells": [
    {
      "cell_type": "markdown",
      "source": [
        "# **Author : jairo neder monassa (Data engineer)**\n",
        "linkedin : https://www.linkedin.com/in/jairomonassa/\n",
        "\n",
        "Portifolio de Código https://github.com/desenvolvedorjairomonassa\n"
      ],
      "metadata": {
        "id": "pY5qhbx-aG7h"
      }
    },
    {
      "cell_type": "code",
      "execution_count": 41,
      "metadata": {
        "id": "AM2NBR2NfkyB"
      },
      "outputs": [],
      "source": [
        "import numpy as np\n",
        "import pandas as pd\n",
        "df = pd.read_csv(\"https://pycourse.s3.amazonaws.com/bike-sharing.csv\")"
      ]
    },
    {
      "cell_type": "code",
      "source": [
        "# size of frame / tamanho do dataframe\n",
        "df.shape"
      ],
      "metadata": {
        "colab": {
          "base_uri": "https://localhost:8080/"
        },
        "id": "AcpvWr4DZyh-",
        "outputId": "79cf97a1-4b7f-4486-a0da-9a4b8e7a7354"
      },
      "execution_count": 42,
      "outputs": [
        {
          "output_type": "execute_result",
          "data": {
            "text/plain": [
              "(17379, 17)"
            ]
          },
          "metadata": {},
          "execution_count": 42
        }
      ]
    },
    {
      "cell_type": "markdown",
      "source": [
        "-rec_id: índice do registro de locação;\n",
        "− datetime: data;\n",
        "\n",
        "− season: estação do ano (1: inverno, 2: primavera, 3: verão, 4: outono). Relativo ao hemisfério norte;\n",
        "\n",
        "− year: ano (0: 2011, 1:2012);\n",
        "\n",
        "− month: mês (1 a 12);\n",
        "\n",
        "− hour: hora do dia (0 a 23);\n",
        "\n",
        "− is_holiday: booleano indicando feriado;\n",
        "\n",
        "− weekday: dia da semana (0: domingo, 1: segunda-feira, ..., 6: sábado);\n",
        "\n",
        "− is_workingday: booleano indicando dia útil;\n",
        "\n",
        "− weather_condition: (1: limpo, 2: nublado, 3: chuva leve, 4: chuva forte);\n",
        "\n",
        "− temp: Temperatura escalada entre 0 e 1. Valor original em graus Celsius: -8 a 39;\n",
        "\n",
        "− atemp: Sensação térmica escalada entre 0 e 1. Valor original em graus Celsius: -16 a 50;\n",
        "\n",
        "− humidity: Humidade relativa (0 a 1);\n",
        "\n",
        "− windspeed: Velocidade do vento escalada entre 0 e 1 (máximo original: 67);\n",
        "\n",
        "− casual: número de locações para usuários casuais;\n",
        "\n",
        "− registered: número de locações para usuários registrados;\n",
        "\n",
        "− total_count: contador total de aluguéis (casual+registered).\n",
        "\n"
      ],
      "metadata": {
        "id": "avgkOUK_im0v"
      }
    },
    {
      "cell_type": "code",
      "source": [
        "#média da coluna windspeed\n",
        "df['windspeed'].mean()"
      ],
      "metadata": {
        "colab": {
          "base_uri": "https://localhost:8080/"
        },
        "id": "lV65EKbqbXrh",
        "outputId": "daa26a64-e83f-4486-c859-e905d6fb1067"
      },
      "execution_count": 43,
      "outputs": [
        {
          "output_type": "execute_result",
          "data": {
            "text/plain": [
              "0.1900976063064631"
            ]
          },
          "metadata": {},
          "execution_count": 43
        }
      ]
    },
    {
      "cell_type": "code",
      "source": [
        "df['temp'].mean()"
      ],
      "metadata": {
        "colab": {
          "base_uri": "https://localhost:8080/"
        },
        "id": "5FEXwzXncOm_",
        "outputId": "0e25c1ee-757f-474d-e4fc-023216b4277b"
      },
      "execution_count": 44,
      "outputs": [
        {
          "output_type": "execute_result",
          "data": {
            "text/plain": [
              "0.4969871684216586"
            ]
          },
          "metadata": {},
          "execution_count": 44
        }
      ]
    },
    {
      "cell_type": "code",
      "source": [
        "df.head(10)"
      ],
      "metadata": {
        "colab": {
          "base_uri": "https://localhost:8080/",
          "height": 363
        },
        "id": "SPA_mLKdcZTU",
        "outputId": "35611590-8d87-49d4-cacb-11c28add70a2"
      },
      "execution_count": 45,
      "outputs": [
        {
          "output_type": "execute_result",
          "data": {
            "text/html": [
              "\n",
              "  <div id=\"df-8e75a61f-2250-4c78-9c98-2e4f4d57feba\">\n",
              "    <div class=\"colab-df-container\">\n",
              "      <div>\n",
              "<style scoped>\n",
              "    .dataframe tbody tr th:only-of-type {\n",
              "        vertical-align: middle;\n",
              "    }\n",
              "\n",
              "    .dataframe tbody tr th {\n",
              "        vertical-align: top;\n",
              "    }\n",
              "\n",
              "    .dataframe thead th {\n",
              "        text-align: right;\n",
              "    }\n",
              "</style>\n",
              "<table border=\"1\" class=\"dataframe\">\n",
              "  <thead>\n",
              "    <tr style=\"text-align: right;\">\n",
              "      <th></th>\n",
              "      <th>datetime</th>\n",
              "      <th>rec_id</th>\n",
              "      <th>season</th>\n",
              "      <th>year</th>\n",
              "      <th>month</th>\n",
              "      <th>hour</th>\n",
              "      <th>is_holiday</th>\n",
              "      <th>weekday</th>\n",
              "      <th>is_workingday</th>\n",
              "      <th>weather_condition</th>\n",
              "      <th>temp</th>\n",
              "      <th>atemp</th>\n",
              "      <th>humidity</th>\n",
              "      <th>windspeed</th>\n",
              "      <th>casual</th>\n",
              "      <th>registered</th>\n",
              "      <th>total_count</th>\n",
              "    </tr>\n",
              "  </thead>\n",
              "  <tbody>\n",
              "    <tr>\n",
              "      <th>0</th>\n",
              "      <td>2011-01-01</td>\n",
              "      <td>1</td>\n",
              "      <td>1</td>\n",
              "      <td>0</td>\n",
              "      <td>1</td>\n",
              "      <td>0</td>\n",
              "      <td>0</td>\n",
              "      <td>6</td>\n",
              "      <td>0</td>\n",
              "      <td>1</td>\n",
              "      <td>0.24</td>\n",
              "      <td>0.2879</td>\n",
              "      <td>0.81</td>\n",
              "      <td>0.0000</td>\n",
              "      <td>3</td>\n",
              "      <td>13</td>\n",
              "      <td>16</td>\n",
              "    </tr>\n",
              "    <tr>\n",
              "      <th>1</th>\n",
              "      <td>2011-01-01</td>\n",
              "      <td>2</td>\n",
              "      <td>1</td>\n",
              "      <td>0</td>\n",
              "      <td>1</td>\n",
              "      <td>1</td>\n",
              "      <td>0</td>\n",
              "      <td>6</td>\n",
              "      <td>0</td>\n",
              "      <td>1</td>\n",
              "      <td>0.22</td>\n",
              "      <td>0.2727</td>\n",
              "      <td>0.80</td>\n",
              "      <td>0.0000</td>\n",
              "      <td>8</td>\n",
              "      <td>32</td>\n",
              "      <td>40</td>\n",
              "    </tr>\n",
              "    <tr>\n",
              "      <th>2</th>\n",
              "      <td>2011-01-01</td>\n",
              "      <td>3</td>\n",
              "      <td>1</td>\n",
              "      <td>0</td>\n",
              "      <td>1</td>\n",
              "      <td>2</td>\n",
              "      <td>0</td>\n",
              "      <td>6</td>\n",
              "      <td>0</td>\n",
              "      <td>1</td>\n",
              "      <td>0.22</td>\n",
              "      <td>0.2727</td>\n",
              "      <td>0.80</td>\n",
              "      <td>0.0000</td>\n",
              "      <td>5</td>\n",
              "      <td>27</td>\n",
              "      <td>32</td>\n",
              "    </tr>\n",
              "    <tr>\n",
              "      <th>3</th>\n",
              "      <td>2011-01-01</td>\n",
              "      <td>4</td>\n",
              "      <td>1</td>\n",
              "      <td>0</td>\n",
              "      <td>1</td>\n",
              "      <td>3</td>\n",
              "      <td>0</td>\n",
              "      <td>6</td>\n",
              "      <td>0</td>\n",
              "      <td>1</td>\n",
              "      <td>0.24</td>\n",
              "      <td>0.2879</td>\n",
              "      <td>0.75</td>\n",
              "      <td>0.0000</td>\n",
              "      <td>3</td>\n",
              "      <td>10</td>\n",
              "      <td>13</td>\n",
              "    </tr>\n",
              "    <tr>\n",
              "      <th>4</th>\n",
              "      <td>2011-01-01</td>\n",
              "      <td>5</td>\n",
              "      <td>1</td>\n",
              "      <td>0</td>\n",
              "      <td>1</td>\n",
              "      <td>4</td>\n",
              "      <td>0</td>\n",
              "      <td>6</td>\n",
              "      <td>0</td>\n",
              "      <td>1</td>\n",
              "      <td>0.24</td>\n",
              "      <td>0.2879</td>\n",
              "      <td>0.75</td>\n",
              "      <td>0.0000</td>\n",
              "      <td>0</td>\n",
              "      <td>1</td>\n",
              "      <td>1</td>\n",
              "    </tr>\n",
              "    <tr>\n",
              "      <th>5</th>\n",
              "      <td>2011-01-01</td>\n",
              "      <td>6</td>\n",
              "      <td>1</td>\n",
              "      <td>0</td>\n",
              "      <td>1</td>\n",
              "      <td>5</td>\n",
              "      <td>0</td>\n",
              "      <td>6</td>\n",
              "      <td>0</td>\n",
              "      <td>2</td>\n",
              "      <td>0.24</td>\n",
              "      <td>0.2576</td>\n",
              "      <td>0.75</td>\n",
              "      <td>0.0896</td>\n",
              "      <td>0</td>\n",
              "      <td>1</td>\n",
              "      <td>1</td>\n",
              "    </tr>\n",
              "    <tr>\n",
              "      <th>6</th>\n",
              "      <td>2011-01-01</td>\n",
              "      <td>7</td>\n",
              "      <td>1</td>\n",
              "      <td>0</td>\n",
              "      <td>1</td>\n",
              "      <td>6</td>\n",
              "      <td>0</td>\n",
              "      <td>6</td>\n",
              "      <td>0</td>\n",
              "      <td>1</td>\n",
              "      <td>0.22</td>\n",
              "      <td>0.2727</td>\n",
              "      <td>0.80</td>\n",
              "      <td>0.0000</td>\n",
              "      <td>2</td>\n",
              "      <td>0</td>\n",
              "      <td>2</td>\n",
              "    </tr>\n",
              "    <tr>\n",
              "      <th>7</th>\n",
              "      <td>2011-01-01</td>\n",
              "      <td>8</td>\n",
              "      <td>1</td>\n",
              "      <td>0</td>\n",
              "      <td>1</td>\n",
              "      <td>7</td>\n",
              "      <td>0</td>\n",
              "      <td>6</td>\n",
              "      <td>0</td>\n",
              "      <td>1</td>\n",
              "      <td>0.20</td>\n",
              "      <td>0.2576</td>\n",
              "      <td>0.86</td>\n",
              "      <td>0.0000</td>\n",
              "      <td>1</td>\n",
              "      <td>2</td>\n",
              "      <td>3</td>\n",
              "    </tr>\n",
              "    <tr>\n",
              "      <th>8</th>\n",
              "      <td>2011-01-01</td>\n",
              "      <td>9</td>\n",
              "      <td>1</td>\n",
              "      <td>0</td>\n",
              "      <td>1</td>\n",
              "      <td>8</td>\n",
              "      <td>0</td>\n",
              "      <td>6</td>\n",
              "      <td>0</td>\n",
              "      <td>1</td>\n",
              "      <td>0.24</td>\n",
              "      <td>0.2879</td>\n",
              "      <td>0.75</td>\n",
              "      <td>0.0000</td>\n",
              "      <td>1</td>\n",
              "      <td>7</td>\n",
              "      <td>8</td>\n",
              "    </tr>\n",
              "    <tr>\n",
              "      <th>9</th>\n",
              "      <td>2011-01-01</td>\n",
              "      <td>10</td>\n",
              "      <td>1</td>\n",
              "      <td>0</td>\n",
              "      <td>1</td>\n",
              "      <td>9</td>\n",
              "      <td>0</td>\n",
              "      <td>6</td>\n",
              "      <td>0</td>\n",
              "      <td>1</td>\n",
              "      <td>0.32</td>\n",
              "      <td>0.3485</td>\n",
              "      <td>0.76</td>\n",
              "      <td>0.0000</td>\n",
              "      <td>8</td>\n",
              "      <td>6</td>\n",
              "      <td>14</td>\n",
              "    </tr>\n",
              "  </tbody>\n",
              "</table>\n",
              "</div>\n",
              "      <button class=\"colab-df-convert\" onclick=\"convertToInteractive('df-8e75a61f-2250-4c78-9c98-2e4f4d57feba')\"\n",
              "              title=\"Convert this dataframe to an interactive table.\"\n",
              "              style=\"display:none;\">\n",
              "        \n",
              "  <svg xmlns=\"http://www.w3.org/2000/svg\" height=\"24px\"viewBox=\"0 0 24 24\"\n",
              "       width=\"24px\">\n",
              "    <path d=\"M0 0h24v24H0V0z\" fill=\"none\"/>\n",
              "    <path d=\"M18.56 5.44l.94 2.06.94-2.06 2.06-.94-2.06-.94-.94-2.06-.94 2.06-2.06.94zm-11 1L8.5 8.5l.94-2.06 2.06-.94-2.06-.94L8.5 2.5l-.94 2.06-2.06.94zm10 10l.94 2.06.94-2.06 2.06-.94-2.06-.94-.94-2.06-.94 2.06-2.06.94z\"/><path d=\"M17.41 7.96l-1.37-1.37c-.4-.4-.92-.59-1.43-.59-.52 0-1.04.2-1.43.59L10.3 9.45l-7.72 7.72c-.78.78-.78 2.05 0 2.83L4 21.41c.39.39.9.59 1.41.59.51 0 1.02-.2 1.41-.59l7.78-7.78 2.81-2.81c.8-.78.8-2.07 0-2.86zM5.41 20L4 18.59l7.72-7.72 1.47 1.35L5.41 20z\"/>\n",
              "  </svg>\n",
              "      </button>\n",
              "      \n",
              "  <style>\n",
              "    .colab-df-container {\n",
              "      display:flex;\n",
              "      flex-wrap:wrap;\n",
              "      gap: 12px;\n",
              "    }\n",
              "\n",
              "    .colab-df-convert {\n",
              "      background-color: #E8F0FE;\n",
              "      border: none;\n",
              "      border-radius: 50%;\n",
              "      cursor: pointer;\n",
              "      display: none;\n",
              "      fill: #1967D2;\n",
              "      height: 32px;\n",
              "      padding: 0 0 0 0;\n",
              "      width: 32px;\n",
              "    }\n",
              "\n",
              "    .colab-df-convert:hover {\n",
              "      background-color: #E2EBFA;\n",
              "      box-shadow: 0px 1px 2px rgba(60, 64, 67, 0.3), 0px 1px 3px 1px rgba(60, 64, 67, 0.15);\n",
              "      fill: #174EA6;\n",
              "    }\n",
              "\n",
              "    [theme=dark] .colab-df-convert {\n",
              "      background-color: #3B4455;\n",
              "      fill: #D2E3FC;\n",
              "    }\n",
              "\n",
              "    [theme=dark] .colab-df-convert:hover {\n",
              "      background-color: #434B5C;\n",
              "      box-shadow: 0px 1px 3px 1px rgba(0, 0, 0, 0.15);\n",
              "      filter: drop-shadow(0px 1px 2px rgba(0, 0, 0, 0.3));\n",
              "      fill: #FFFFFF;\n",
              "    }\n",
              "  </style>\n",
              "\n",
              "      <script>\n",
              "        const buttonEl =\n",
              "          document.querySelector('#df-8e75a61f-2250-4c78-9c98-2e4f4d57feba button.colab-df-convert');\n",
              "        buttonEl.style.display =\n",
              "          google.colab.kernel.accessAllowed ? 'block' : 'none';\n",
              "\n",
              "        async function convertToInteractive(key) {\n",
              "          const element = document.querySelector('#df-8e75a61f-2250-4c78-9c98-2e4f4d57feba');\n",
              "          const dataTable =\n",
              "            await google.colab.kernel.invokeFunction('convertToInteractive',\n",
              "                                                     [key], {});\n",
              "          if (!dataTable) return;\n",
              "\n",
              "          const docLinkHtml = 'Like what you see? Visit the ' +\n",
              "            '<a target=\"_blank\" href=https://colab.research.google.com/notebooks/data_table.ipynb>data table notebook</a>'\n",
              "            + ' to learn more about interactive tables.';\n",
              "          element.innerHTML = '';\n",
              "          dataTable['output_type'] = 'display_data';\n",
              "          await google.colab.output.renderOutput(dataTable, element);\n",
              "          const docLink = document.createElement('div');\n",
              "          docLink.innerHTML = docLinkHtml;\n",
              "          element.appendChild(docLink);\n",
              "        }\n",
              "      </script>\n",
              "    </div>\n",
              "  </div>\n",
              "  "
            ],
            "text/plain": [
              "     datetime  rec_id  season  year  ...  windspeed  casual  registered  total_count\n",
              "0  2011-01-01       1       1     0  ...     0.0000       3          13           16\n",
              "1  2011-01-01       2       1     0  ...     0.0000       8          32           40\n",
              "2  2011-01-01       3       1     0  ...     0.0000       5          27           32\n",
              "3  2011-01-01       4       1     0  ...     0.0000       3          10           13\n",
              "4  2011-01-01       5       1     0  ...     0.0000       0           1            1\n",
              "5  2011-01-01       6       1     0  ...     0.0896       0           1            1\n",
              "6  2011-01-01       7       1     0  ...     0.0000       2           0            2\n",
              "7  2011-01-01       8       1     0  ...     0.0000       1           2            3\n",
              "8  2011-01-01       9       1     0  ...     0.0000       1           7            8\n",
              "9  2011-01-01      10       1     0  ...     0.0000       8           6           14\n",
              "\n",
              "[10 rows x 17 columns]"
            ]
          },
          "metadata": {},
          "execution_count": 45
        }
      ]
    },
    {
      "cell_type": "code",
      "source": [
        "df.describe()"
      ],
      "metadata": {
        "colab": {
          "base_uri": "https://localhost:8080/",
          "height": 344
        },
        "id": "yroKH17vceGo",
        "outputId": "f2567f24-1445-4ddd-b552-d64a0dddcb6e"
      },
      "execution_count": 46,
      "outputs": [
        {
          "output_type": "execute_result",
          "data": {
            "text/html": [
              "\n",
              "  <div id=\"df-df8f8013-21c2-4be5-8bbc-950ada02e178\">\n",
              "    <div class=\"colab-df-container\">\n",
              "      <div>\n",
              "<style scoped>\n",
              "    .dataframe tbody tr th:only-of-type {\n",
              "        vertical-align: middle;\n",
              "    }\n",
              "\n",
              "    .dataframe tbody tr th {\n",
              "        vertical-align: top;\n",
              "    }\n",
              "\n",
              "    .dataframe thead th {\n",
              "        text-align: right;\n",
              "    }\n",
              "</style>\n",
              "<table border=\"1\" class=\"dataframe\">\n",
              "  <thead>\n",
              "    <tr style=\"text-align: right;\">\n",
              "      <th></th>\n",
              "      <th>rec_id</th>\n",
              "      <th>season</th>\n",
              "      <th>year</th>\n",
              "      <th>month</th>\n",
              "      <th>hour</th>\n",
              "      <th>is_holiday</th>\n",
              "      <th>weekday</th>\n",
              "      <th>is_workingday</th>\n",
              "      <th>weather_condition</th>\n",
              "      <th>temp</th>\n",
              "      <th>atemp</th>\n",
              "      <th>humidity</th>\n",
              "      <th>windspeed</th>\n",
              "      <th>casual</th>\n",
              "      <th>registered</th>\n",
              "      <th>total_count</th>\n",
              "    </tr>\n",
              "  </thead>\n",
              "  <tbody>\n",
              "    <tr>\n",
              "      <th>count</th>\n",
              "      <td>17379.0000</td>\n",
              "      <td>17379.000000</td>\n",
              "      <td>17379.000000</td>\n",
              "      <td>17379.000000</td>\n",
              "      <td>17379.000000</td>\n",
              "      <td>17379.000000</td>\n",
              "      <td>17379.000000</td>\n",
              "      <td>17379.000000</td>\n",
              "      <td>17379.000000</td>\n",
              "      <td>17379.000000</td>\n",
              "      <td>17379.000000</td>\n",
              "      <td>17379.000000</td>\n",
              "      <td>17379.000000</td>\n",
              "      <td>17379.000000</td>\n",
              "      <td>17379.000000</td>\n",
              "      <td>17379.000000</td>\n",
              "    </tr>\n",
              "    <tr>\n",
              "      <th>mean</th>\n",
              "      <td>8690.0000</td>\n",
              "      <td>2.501640</td>\n",
              "      <td>0.502561</td>\n",
              "      <td>6.537775</td>\n",
              "      <td>11.546752</td>\n",
              "      <td>0.028770</td>\n",
              "      <td>3.003683</td>\n",
              "      <td>0.682721</td>\n",
              "      <td>1.425283</td>\n",
              "      <td>0.496987</td>\n",
              "      <td>0.475775</td>\n",
              "      <td>0.627229</td>\n",
              "      <td>0.190098</td>\n",
              "      <td>35.676218</td>\n",
              "      <td>153.786869</td>\n",
              "      <td>189.463088</td>\n",
              "    </tr>\n",
              "    <tr>\n",
              "      <th>std</th>\n",
              "      <td>5017.0295</td>\n",
              "      <td>1.106918</td>\n",
              "      <td>0.500008</td>\n",
              "      <td>3.438776</td>\n",
              "      <td>6.914405</td>\n",
              "      <td>0.167165</td>\n",
              "      <td>2.005771</td>\n",
              "      <td>0.465431</td>\n",
              "      <td>0.639357</td>\n",
              "      <td>0.192556</td>\n",
              "      <td>0.171850</td>\n",
              "      <td>0.192930</td>\n",
              "      <td>0.122340</td>\n",
              "      <td>49.305030</td>\n",
              "      <td>151.357286</td>\n",
              "      <td>181.387599</td>\n",
              "    </tr>\n",
              "    <tr>\n",
              "      <th>min</th>\n",
              "      <td>1.0000</td>\n",
              "      <td>1.000000</td>\n",
              "      <td>0.000000</td>\n",
              "      <td>1.000000</td>\n",
              "      <td>0.000000</td>\n",
              "      <td>0.000000</td>\n",
              "      <td>0.000000</td>\n",
              "      <td>0.000000</td>\n",
              "      <td>1.000000</td>\n",
              "      <td>0.020000</td>\n",
              "      <td>0.000000</td>\n",
              "      <td>0.000000</td>\n",
              "      <td>0.000000</td>\n",
              "      <td>0.000000</td>\n",
              "      <td>0.000000</td>\n",
              "      <td>1.000000</td>\n",
              "    </tr>\n",
              "    <tr>\n",
              "      <th>25%</th>\n",
              "      <td>4345.5000</td>\n",
              "      <td>2.000000</td>\n",
              "      <td>0.000000</td>\n",
              "      <td>4.000000</td>\n",
              "      <td>6.000000</td>\n",
              "      <td>0.000000</td>\n",
              "      <td>1.000000</td>\n",
              "      <td>0.000000</td>\n",
              "      <td>1.000000</td>\n",
              "      <td>0.340000</td>\n",
              "      <td>0.333300</td>\n",
              "      <td>0.480000</td>\n",
              "      <td>0.104500</td>\n",
              "      <td>4.000000</td>\n",
              "      <td>34.000000</td>\n",
              "      <td>40.000000</td>\n",
              "    </tr>\n",
              "    <tr>\n",
              "      <th>50%</th>\n",
              "      <td>8690.0000</td>\n",
              "      <td>3.000000</td>\n",
              "      <td>1.000000</td>\n",
              "      <td>7.000000</td>\n",
              "      <td>12.000000</td>\n",
              "      <td>0.000000</td>\n",
              "      <td>3.000000</td>\n",
              "      <td>1.000000</td>\n",
              "      <td>1.000000</td>\n",
              "      <td>0.500000</td>\n",
              "      <td>0.484800</td>\n",
              "      <td>0.630000</td>\n",
              "      <td>0.194000</td>\n",
              "      <td>17.000000</td>\n",
              "      <td>115.000000</td>\n",
              "      <td>142.000000</td>\n",
              "    </tr>\n",
              "    <tr>\n",
              "      <th>75%</th>\n",
              "      <td>13034.5000</td>\n",
              "      <td>3.000000</td>\n",
              "      <td>1.000000</td>\n",
              "      <td>10.000000</td>\n",
              "      <td>18.000000</td>\n",
              "      <td>0.000000</td>\n",
              "      <td>5.000000</td>\n",
              "      <td>1.000000</td>\n",
              "      <td>2.000000</td>\n",
              "      <td>0.660000</td>\n",
              "      <td>0.621200</td>\n",
              "      <td>0.780000</td>\n",
              "      <td>0.253700</td>\n",
              "      <td>48.000000</td>\n",
              "      <td>220.000000</td>\n",
              "      <td>281.000000</td>\n",
              "    </tr>\n",
              "    <tr>\n",
              "      <th>max</th>\n",
              "      <td>17379.0000</td>\n",
              "      <td>4.000000</td>\n",
              "      <td>1.000000</td>\n",
              "      <td>12.000000</td>\n",
              "      <td>23.000000</td>\n",
              "      <td>1.000000</td>\n",
              "      <td>6.000000</td>\n",
              "      <td>1.000000</td>\n",
              "      <td>4.000000</td>\n",
              "      <td>1.000000</td>\n",
              "      <td>1.000000</td>\n",
              "      <td>1.000000</td>\n",
              "      <td>0.850700</td>\n",
              "      <td>367.000000</td>\n",
              "      <td>886.000000</td>\n",
              "      <td>977.000000</td>\n",
              "    </tr>\n",
              "  </tbody>\n",
              "</table>\n",
              "</div>\n",
              "      <button class=\"colab-df-convert\" onclick=\"convertToInteractive('df-df8f8013-21c2-4be5-8bbc-950ada02e178')\"\n",
              "              title=\"Convert this dataframe to an interactive table.\"\n",
              "              style=\"display:none;\">\n",
              "        \n",
              "  <svg xmlns=\"http://www.w3.org/2000/svg\" height=\"24px\"viewBox=\"0 0 24 24\"\n",
              "       width=\"24px\">\n",
              "    <path d=\"M0 0h24v24H0V0z\" fill=\"none\"/>\n",
              "    <path d=\"M18.56 5.44l.94 2.06.94-2.06 2.06-.94-2.06-.94-.94-2.06-.94 2.06-2.06.94zm-11 1L8.5 8.5l.94-2.06 2.06-.94-2.06-.94L8.5 2.5l-.94 2.06-2.06.94zm10 10l.94 2.06.94-2.06 2.06-.94-2.06-.94-.94-2.06-.94 2.06-2.06.94z\"/><path d=\"M17.41 7.96l-1.37-1.37c-.4-.4-.92-.59-1.43-.59-.52 0-1.04.2-1.43.59L10.3 9.45l-7.72 7.72c-.78.78-.78 2.05 0 2.83L4 21.41c.39.39.9.59 1.41.59.51 0 1.02-.2 1.41-.59l7.78-7.78 2.81-2.81c.8-.78.8-2.07 0-2.86zM5.41 20L4 18.59l7.72-7.72 1.47 1.35L5.41 20z\"/>\n",
              "  </svg>\n",
              "      </button>\n",
              "      \n",
              "  <style>\n",
              "    .colab-df-container {\n",
              "      display:flex;\n",
              "      flex-wrap:wrap;\n",
              "      gap: 12px;\n",
              "    }\n",
              "\n",
              "    .colab-df-convert {\n",
              "      background-color: #E8F0FE;\n",
              "      border: none;\n",
              "      border-radius: 50%;\n",
              "      cursor: pointer;\n",
              "      display: none;\n",
              "      fill: #1967D2;\n",
              "      height: 32px;\n",
              "      padding: 0 0 0 0;\n",
              "      width: 32px;\n",
              "    }\n",
              "\n",
              "    .colab-df-convert:hover {\n",
              "      background-color: #E2EBFA;\n",
              "      box-shadow: 0px 1px 2px rgba(60, 64, 67, 0.3), 0px 1px 3px 1px rgba(60, 64, 67, 0.15);\n",
              "      fill: #174EA6;\n",
              "    }\n",
              "\n",
              "    [theme=dark] .colab-df-convert {\n",
              "      background-color: #3B4455;\n",
              "      fill: #D2E3FC;\n",
              "    }\n",
              "\n",
              "    [theme=dark] .colab-df-convert:hover {\n",
              "      background-color: #434B5C;\n",
              "      box-shadow: 0px 1px 3px 1px rgba(0, 0, 0, 0.15);\n",
              "      filter: drop-shadow(0px 1px 2px rgba(0, 0, 0, 0.3));\n",
              "      fill: #FFFFFF;\n",
              "    }\n",
              "  </style>\n",
              "\n",
              "      <script>\n",
              "        const buttonEl =\n",
              "          document.querySelector('#df-df8f8013-21c2-4be5-8bbc-950ada02e178 button.colab-df-convert');\n",
              "        buttonEl.style.display =\n",
              "          google.colab.kernel.accessAllowed ? 'block' : 'none';\n",
              "\n",
              "        async function convertToInteractive(key) {\n",
              "          const element = document.querySelector('#df-df8f8013-21c2-4be5-8bbc-950ada02e178');\n",
              "          const dataTable =\n",
              "            await google.colab.kernel.invokeFunction('convertToInteractive',\n",
              "                                                     [key], {});\n",
              "          if (!dataTable) return;\n",
              "\n",
              "          const docLinkHtml = 'Like what you see? Visit the ' +\n",
              "            '<a target=\"_blank\" href=https://colab.research.google.com/notebooks/data_table.ipynb>data table notebook</a>'\n",
              "            + ' to learn more about interactive tables.';\n",
              "          element.innerHTML = '';\n",
              "          dataTable['output_type'] = 'display_data';\n",
              "          await google.colab.output.renderOutput(dataTable, element);\n",
              "          const docLink = document.createElement('div');\n",
              "          docLink.innerHTML = docLinkHtml;\n",
              "          element.appendChild(docLink);\n",
              "        }\n",
              "      </script>\n",
              "    </div>\n",
              "  </div>\n",
              "  "
            ],
            "text/plain": [
              "           rec_id        season  ...    registered   total_count\n",
              "count  17379.0000  17379.000000  ...  17379.000000  17379.000000\n",
              "mean    8690.0000      2.501640  ...    153.786869    189.463088\n",
              "std     5017.0295      1.106918  ...    151.357286    181.387599\n",
              "min        1.0000      1.000000  ...      0.000000      1.000000\n",
              "25%     4345.5000      2.000000  ...     34.000000     40.000000\n",
              "50%     8690.0000      3.000000  ...    115.000000    142.000000\n",
              "75%    13034.5000      3.000000  ...    220.000000    281.000000\n",
              "max    17379.0000      4.000000  ...    886.000000    977.000000\n",
              "\n",
              "[8 rows x 16 columns]"
            ]
          },
          "metadata": {},
          "execution_count": 46
        }
      ]
    },
    {
      "cell_type": "code",
      "source": [
        "df.info()"
      ],
      "metadata": {
        "colab": {
          "base_uri": "https://localhost:8080/"
        },
        "id": "KGAKwt2cchtr",
        "outputId": "20e03ef1-3075-4b3d-cad1-bb23ae879e55"
      },
      "execution_count": 47,
      "outputs": [
        {
          "output_type": "stream",
          "name": "stdout",
          "text": [
            "<class 'pandas.core.frame.DataFrame'>\n",
            "RangeIndex: 17379 entries, 0 to 17378\n",
            "Data columns (total 17 columns):\n",
            " #   Column             Non-Null Count  Dtype  \n",
            "---  ------             --------------  -----  \n",
            " 0   datetime           17379 non-null  object \n",
            " 1   rec_id             17379 non-null  int64  \n",
            " 2   season             17379 non-null  int64  \n",
            " 3   year               17379 non-null  int64  \n",
            " 4   month              17379 non-null  int64  \n",
            " 5   hour               17379 non-null  int64  \n",
            " 6   is_holiday         17379 non-null  int64  \n",
            " 7   weekday            17379 non-null  int64  \n",
            " 8   is_workingday      17379 non-null  int64  \n",
            " 9   weather_condition  17379 non-null  int64  \n",
            " 10  temp               17379 non-null  float64\n",
            " 11  atemp              17379 non-null  float64\n",
            " 12  humidity           17379 non-null  float64\n",
            " 13  windspeed          17379 non-null  float64\n",
            " 14  casual             17379 non-null  int64  \n",
            " 15  registered         17379 non-null  int64  \n",
            " 16  total_count        17379 non-null  int64  \n",
            "dtypes: float64(4), int64(12), object(1)\n",
            "memory usage: 2.3+ MB\n"
          ]
        }
      ]
    },
    {
      "cell_type": "code",
      "source": [
        "df['datetime'].unique()"
      ],
      "metadata": {
        "colab": {
          "base_uri": "https://localhost:8080/"
        },
        "id": "LAWRJvzYdALv",
        "outputId": "f9ffb034-e437-432c-a904-3d6e9c97505c"
      },
      "execution_count": 48,
      "outputs": [
        {
          "output_type": "execute_result",
          "data": {
            "text/plain": [
              "array(['2011-01-01', '2011-01-02', '2011-01-03', '2011-01-04',\n",
              "       '2011-01-05', '2011-01-06', '2011-01-07', '2011-01-08',\n",
              "       '2011-01-09', '2011-01-10', '2011-01-11', '2011-01-12',\n",
              "       '2011-01-13', '2011-01-14', '2011-01-15', '2011-01-16',\n",
              "       '2011-01-17', '2011-01-18', '2011-01-19', '2011-01-20',\n",
              "       '2011-01-21', '2011-01-22', '2011-01-23', '2011-01-24',\n",
              "       '2011-01-25', '2011-01-26', '2011-01-27', '2011-01-28',\n",
              "       '2011-01-29', '2011-01-30', '2011-01-31', '2011-02-01',\n",
              "       '2011-02-02', '2011-02-03', '2011-02-04', '2011-02-05',\n",
              "       '2011-02-06', '2011-02-07', '2011-02-08', '2011-02-09',\n",
              "       '2011-02-10', '2011-02-11', '2011-02-12', '2011-02-13',\n",
              "       '2011-02-14', '2011-02-15', '2011-02-16', '2011-02-17',\n",
              "       '2011-02-18', '2011-02-19', '2011-02-20', '2011-02-21',\n",
              "       '2011-02-22', '2011-02-23', '2011-02-24', '2011-02-25',\n",
              "       '2011-02-26', '2011-02-27', '2011-02-28', '2011-03-01',\n",
              "       '2011-03-02', '2011-03-03', '2011-03-04', '2011-03-05',\n",
              "       '2011-03-06', '2011-03-07', '2011-03-08', '2011-03-09',\n",
              "       '2011-03-10', '2011-03-11', '2011-03-12', '2011-03-13',\n",
              "       '2011-03-14', '2011-03-15', '2011-03-16', '2011-03-17',\n",
              "       '2011-03-18', '2011-03-19', '2011-03-20', '2011-03-21',\n",
              "       '2011-03-22', '2011-03-23', '2011-03-24', '2011-03-25',\n",
              "       '2011-03-26', '2011-03-27', '2011-03-28', '2011-03-29',\n",
              "       '2011-03-30', '2011-03-31', '2011-04-01', '2011-04-02',\n",
              "       '2011-04-03', '2011-04-04', '2011-04-05', '2011-04-06',\n",
              "       '2011-04-07', '2011-04-08', '2011-04-09', '2011-04-10',\n",
              "       '2011-04-11', '2011-04-12', '2011-04-13', '2011-04-14',\n",
              "       '2011-04-15', '2011-04-16', '2011-04-17', '2011-04-18',\n",
              "       '2011-04-19', '2011-04-20', '2011-04-21', '2011-04-22',\n",
              "       '2011-04-23', '2011-04-24', '2011-04-25', '2011-04-26',\n",
              "       '2011-04-27', '2011-04-28', '2011-04-29', '2011-04-30',\n",
              "       '2011-05-01', '2011-05-02', '2011-05-03', '2011-05-04',\n",
              "       '2011-05-05', '2011-05-06', '2011-05-07', '2011-05-08',\n",
              "       '2011-05-09', '2011-05-10', '2011-05-11', '2011-05-12',\n",
              "       '2011-05-13', '2011-05-14', '2011-05-15', '2011-05-16',\n",
              "       '2011-05-17', '2011-05-18', '2011-05-19', '2011-05-20',\n",
              "       '2011-05-21', '2011-05-22', '2011-05-23', '2011-05-24',\n",
              "       '2011-05-25', '2011-05-26', '2011-05-27', '2011-05-28',\n",
              "       '2011-05-29', '2011-05-30', '2011-05-31', '2011-06-01',\n",
              "       '2011-06-02', '2011-06-03', '2011-06-04', '2011-06-05',\n",
              "       '2011-06-06', '2011-06-07', '2011-06-08', '2011-06-09',\n",
              "       '2011-06-10', '2011-06-11', '2011-06-12', '2011-06-13',\n",
              "       '2011-06-14', '2011-06-15', '2011-06-16', '2011-06-17',\n",
              "       '2011-06-18', '2011-06-19', '2011-06-20', '2011-06-21',\n",
              "       '2011-06-22', '2011-06-23', '2011-06-24', '2011-06-25',\n",
              "       '2011-06-26', '2011-06-27', '2011-06-28', '2011-06-29',\n",
              "       '2011-06-30', '2011-07-01', '2011-07-02', '2011-07-03',\n",
              "       '2011-07-04', '2011-07-05', '2011-07-06', '2011-07-07',\n",
              "       '2011-07-08', '2011-07-09', '2011-07-10', '2011-07-11',\n",
              "       '2011-07-12', '2011-07-13', '2011-07-14', '2011-07-15',\n",
              "       '2011-07-16', '2011-07-17', '2011-07-18', '2011-07-19',\n",
              "       '2011-07-20', '2011-07-21', '2011-07-22', '2011-07-23',\n",
              "       '2011-07-24', '2011-07-25', '2011-07-26', '2011-07-27',\n",
              "       '2011-07-28', '2011-07-29', '2011-07-30', '2011-07-31',\n",
              "       '2011-08-01', '2011-08-02', '2011-08-03', '2011-08-04',\n",
              "       '2011-08-05', '2011-08-06', '2011-08-07', '2011-08-08',\n",
              "       '2011-08-09', '2011-08-10', '2011-08-11', '2011-08-12',\n",
              "       '2011-08-13', '2011-08-14', '2011-08-15', '2011-08-16',\n",
              "       '2011-08-17', '2011-08-18', '2011-08-19', '2011-08-20',\n",
              "       '2011-08-21', '2011-08-22', '2011-08-23', '2011-08-24',\n",
              "       '2011-08-25', '2011-08-26', '2011-08-27', '2011-08-28',\n",
              "       '2011-08-29', '2011-08-30', '2011-08-31', '2011-09-01',\n",
              "       '2011-09-02', '2011-09-03', '2011-09-04', '2011-09-05',\n",
              "       '2011-09-06', '2011-09-07', '2011-09-08', '2011-09-09',\n",
              "       '2011-09-10', '2011-09-11', '2011-09-12', '2011-09-13',\n",
              "       '2011-09-14', '2011-09-15', '2011-09-16', '2011-09-17',\n",
              "       '2011-09-18', '2011-09-19', '2011-09-20', '2011-09-21',\n",
              "       '2011-09-22', '2011-09-23', '2011-09-24', '2011-09-25',\n",
              "       '2011-09-26', '2011-09-27', '2011-09-28', '2011-09-29',\n",
              "       '2011-09-30', '2011-10-01', '2011-10-02', '2011-10-03',\n",
              "       '2011-10-04', '2011-10-05', '2011-10-06', '2011-10-07',\n",
              "       '2011-10-08', '2011-10-09', '2011-10-10', '2011-10-11',\n",
              "       '2011-10-12', '2011-10-13', '2011-10-14', '2011-10-15',\n",
              "       '2011-10-16', '2011-10-17', '2011-10-18', '2011-10-19',\n",
              "       '2011-10-20', '2011-10-21', '2011-10-22', '2011-10-23',\n",
              "       '2011-10-24', '2011-10-25', '2011-10-26', '2011-10-27',\n",
              "       '2011-10-28', '2011-10-29', '2011-10-30', '2011-10-31',\n",
              "       '2011-11-01', '2011-11-02', '2011-11-03', '2011-11-04',\n",
              "       '2011-11-05', '2011-11-06', '2011-11-07', '2011-11-08',\n",
              "       '2011-11-09', '2011-11-10', '2011-11-11', '2011-11-12',\n",
              "       '2011-11-13', '2011-11-14', '2011-11-15', '2011-11-16',\n",
              "       '2011-11-17', '2011-11-18', '2011-11-19', '2011-11-20',\n",
              "       '2011-11-21', '2011-11-22', '2011-11-23', '2011-11-24',\n",
              "       '2011-11-25', '2011-11-26', '2011-11-27', '2011-11-28',\n",
              "       '2011-11-29', '2011-11-30', '2011-12-01', '2011-12-02',\n",
              "       '2011-12-03', '2011-12-04', '2011-12-05', '2011-12-06',\n",
              "       '2011-12-07', '2011-12-08', '2011-12-09', '2011-12-10',\n",
              "       '2011-12-11', '2011-12-12', '2011-12-13', '2011-12-14',\n",
              "       '2011-12-15', '2011-12-16', '2011-12-17', '2011-12-18',\n",
              "       '2011-12-19', '2011-12-20', '2011-12-21', '2011-12-22',\n",
              "       '2011-12-23', '2011-12-24', '2011-12-25', '2011-12-26',\n",
              "       '2011-12-27', '2011-12-28', '2011-12-29', '2011-12-30',\n",
              "       '2011-12-31', '2012-01-01', '2012-01-02', '2012-01-03',\n",
              "       '2012-01-04', '2012-01-05', '2012-01-06', '2012-01-07',\n",
              "       '2012-01-08', '2012-01-09', '2012-01-10', '2012-01-11',\n",
              "       '2012-01-12', '2012-01-13', '2012-01-14', '2012-01-15',\n",
              "       '2012-01-16', '2012-01-17', '2012-01-18', '2012-01-19',\n",
              "       '2012-01-20', '2012-01-21', '2012-01-22', '2012-01-23',\n",
              "       '2012-01-24', '2012-01-25', '2012-01-26', '2012-01-27',\n",
              "       '2012-01-28', '2012-01-29', '2012-01-30', '2012-01-31',\n",
              "       '2012-02-01', '2012-02-02', '2012-02-03', '2012-02-04',\n",
              "       '2012-02-05', '2012-02-06', '2012-02-07', '2012-02-08',\n",
              "       '2012-02-09', '2012-02-10', '2012-02-11', '2012-02-12',\n",
              "       '2012-02-13', '2012-02-14', '2012-02-15', '2012-02-16',\n",
              "       '2012-02-17', '2012-02-18', '2012-02-19', '2012-02-20',\n",
              "       '2012-02-21', '2012-02-22', '2012-02-23', '2012-02-24',\n",
              "       '2012-02-25', '2012-02-26', '2012-02-27', '2012-02-28',\n",
              "       '2012-02-29', '2012-03-01', '2012-03-02', '2012-03-03',\n",
              "       '2012-03-04', '2012-03-05', '2012-03-06', '2012-03-07',\n",
              "       '2012-03-08', '2012-03-09', '2012-03-10', '2012-03-11',\n",
              "       '2012-03-12', '2012-03-13', '2012-03-14', '2012-03-15',\n",
              "       '2012-03-16', '2012-03-17', '2012-03-18', '2012-03-19',\n",
              "       '2012-03-20', '2012-03-21', '2012-03-22', '2012-03-23',\n",
              "       '2012-03-24', '2012-03-25', '2012-03-26', '2012-03-27',\n",
              "       '2012-03-28', '2012-03-29', '2012-03-30', '2012-03-31',\n",
              "       '2012-04-01', '2012-04-02', '2012-04-03', '2012-04-04',\n",
              "       '2012-04-05', '2012-04-06', '2012-04-07', '2012-04-08',\n",
              "       '2012-04-09', '2012-04-10', '2012-04-11', '2012-04-12',\n",
              "       '2012-04-13', '2012-04-14', '2012-04-15', '2012-04-16',\n",
              "       '2012-04-17', '2012-04-18', '2012-04-19', '2012-04-20',\n",
              "       '2012-04-21', '2012-04-22', '2012-04-23', '2012-04-24',\n",
              "       '2012-04-25', '2012-04-26', '2012-04-27', '2012-04-28',\n",
              "       '2012-04-29', '2012-04-30', '2012-05-01', '2012-05-02',\n",
              "       '2012-05-03', '2012-05-04', '2012-05-05', '2012-05-06',\n",
              "       '2012-05-07', '2012-05-08', '2012-05-09', '2012-05-10',\n",
              "       '2012-05-11', '2012-05-12', '2012-05-13', '2012-05-14',\n",
              "       '2012-05-15', '2012-05-16', '2012-05-17', '2012-05-18',\n",
              "       '2012-05-19', '2012-05-20', '2012-05-21', '2012-05-22',\n",
              "       '2012-05-23', '2012-05-24', '2012-05-25', '2012-05-26',\n",
              "       '2012-05-27', '2012-05-28', '2012-05-29', '2012-05-30',\n",
              "       '2012-05-31', '2012-06-01', '2012-06-02', '2012-06-03',\n",
              "       '2012-06-04', '2012-06-05', '2012-06-06', '2012-06-07',\n",
              "       '2012-06-08', '2012-06-09', '2012-06-10', '2012-06-11',\n",
              "       '2012-06-12', '2012-06-13', '2012-06-14', '2012-06-15',\n",
              "       '2012-06-16', '2012-06-17', '2012-06-18', '2012-06-19',\n",
              "       '2012-06-20', '2012-06-21', '2012-06-22', '2012-06-23',\n",
              "       '2012-06-24', '2012-06-25', '2012-06-26', '2012-06-27',\n",
              "       '2012-06-28', '2012-06-29', '2012-06-30', '2012-07-01',\n",
              "       '2012-07-02', '2012-07-03', '2012-07-04', '2012-07-05',\n",
              "       '2012-07-06', '2012-07-07', '2012-07-08', '2012-07-09',\n",
              "       '2012-07-10', '2012-07-11', '2012-07-12', '2012-07-13',\n",
              "       '2012-07-14', '2012-07-15', '2012-07-16', '2012-07-17',\n",
              "       '2012-07-18', '2012-07-19', '2012-07-20', '2012-07-21',\n",
              "       '2012-07-22', '2012-07-23', '2012-07-24', '2012-07-25',\n",
              "       '2012-07-26', '2012-07-27', '2012-07-28', '2012-07-29',\n",
              "       '2012-07-30', '2012-07-31', '2012-08-01', '2012-08-02',\n",
              "       '2012-08-03', '2012-08-04', '2012-08-05', '2012-08-06',\n",
              "       '2012-08-07', '2012-08-08', '2012-08-09', '2012-08-10',\n",
              "       '2012-08-11', '2012-08-12', '2012-08-13', '2012-08-14',\n",
              "       '2012-08-15', '2012-08-16', '2012-08-17', '2012-08-18',\n",
              "       '2012-08-19', '2012-08-20', '2012-08-21', '2012-08-22',\n",
              "       '2012-08-23', '2012-08-24', '2012-08-25', '2012-08-26',\n",
              "       '2012-08-27', '2012-08-28', '2012-08-29', '2012-08-30',\n",
              "       '2012-08-31', '2012-09-01', '2012-09-02', '2012-09-03',\n",
              "       '2012-09-04', '2012-09-05', '2012-09-06', '2012-09-07',\n",
              "       '2012-09-08', '2012-09-09', '2012-09-10', '2012-09-11',\n",
              "       '2012-09-12', '2012-09-13', '2012-09-14', '2012-09-15',\n",
              "       '2012-09-16', '2012-09-17', '2012-09-18', '2012-09-19',\n",
              "       '2012-09-20', '2012-09-21', '2012-09-22', '2012-09-23',\n",
              "       '2012-09-24', '2012-09-25', '2012-09-26', '2012-09-27',\n",
              "       '2012-09-28', '2012-09-29', '2012-09-30', '2012-10-01',\n",
              "       '2012-10-02', '2012-10-03', '2012-10-04', '2012-10-05',\n",
              "       '2012-10-06', '2012-10-07', '2012-10-08', '2012-10-09',\n",
              "       '2012-10-10', '2012-10-11', '2012-10-12', '2012-10-13',\n",
              "       '2012-10-14', '2012-10-15', '2012-10-16', '2012-10-17',\n",
              "       '2012-10-18', '2012-10-19', '2012-10-20', '2012-10-21',\n",
              "       '2012-10-22', '2012-10-23', '2012-10-24', '2012-10-25',\n",
              "       '2012-10-26', '2012-10-27', '2012-10-28', '2012-10-29',\n",
              "       '2012-10-30', '2012-10-31', '2012-11-01', '2012-11-02',\n",
              "       '2012-11-03', '2012-11-04', '2012-11-05', '2012-11-06',\n",
              "       '2012-11-07', '2012-11-08', '2012-11-09', '2012-11-10',\n",
              "       '2012-11-11', '2012-11-12', '2012-11-13', '2012-11-14',\n",
              "       '2012-11-15', '2012-11-16', '2012-11-17', '2012-11-18',\n",
              "       '2012-11-19', '2012-11-20', '2012-11-21', '2012-11-22',\n",
              "       '2012-11-23', '2012-11-24', '2012-11-25', '2012-11-26',\n",
              "       '2012-11-27', '2012-11-28', '2012-11-29', '2012-11-30',\n",
              "       '2012-12-01', '2012-12-02', '2012-12-03', '2012-12-04',\n",
              "       '2012-12-05', '2012-12-06', '2012-12-07', '2012-12-08',\n",
              "       '2012-12-09', '2012-12-10', '2012-12-11', '2012-12-12',\n",
              "       '2012-12-13', '2012-12-14', '2012-12-15', '2012-12-16',\n",
              "       '2012-12-17', '2012-12-18', '2012-12-19', '2012-12-20',\n",
              "       '2012-12-21', '2012-12-22', '2012-12-23', '2012-12-24',\n",
              "       '2012-12-25', '2012-12-26', '2012-12-27', '2012-12-28',\n",
              "       '2012-12-29', '2012-12-30', '2012-12-31'], dtype=object)"
            ]
          },
          "metadata": {},
          "execution_count": 48
        }
      ]
    },
    {
      "cell_type": "code",
      "source": [
        "#conversão simples de data ano-mes-dia\n",
        "df['datetime_2'] = pd.to_datetime(df['datetime'])"
      ],
      "metadata": {
        "id": "OUmo4XkRdLUP"
      },
      "execution_count": 49,
      "outputs": []
    },
    {
      "cell_type": "code",
      "source": [
        "#filtrando somente linhas com ano 2011\n",
        "df.loc[df['datetime_2'].dt.year == 2011].shape"
      ],
      "metadata": {
        "colab": {
          "base_uri": "https://localhost:8080/"
        },
        "id": "4PMpJeAHdufI",
        "outputId": "42ccac04-185a-4d0f-f8f4-da247a1f68de"
      },
      "execution_count": 50,
      "outputs": [
        {
          "output_type": "execute_result",
          "data": {
            "text/plain": [
              "(8645, 18)"
            ]
          },
          "metadata": {},
          "execution_count": 50
        }
      ]
    },
    {
      "cell_type": "code",
      "source": [
        "# ou pode agrupar por ano para  ver quanto tem em cada um\n",
        "df.groupby(by=df['datetime_2'].dt.year)['datetime_2'].count()"
      ],
      "metadata": {
        "colab": {
          "base_uri": "https://localhost:8080/"
        },
        "id": "-O8BchkTfX4G",
        "outputId": "832c8818-1638-4eaa-a11f-60b6ab65cb43"
      },
      "execution_count": 51,
      "outputs": [
        {
          "output_type": "execute_result",
          "data": {
            "text/plain": [
              "datetime_2\n",
              "2011    8645\n",
              "2012    8734\n",
              "Name: datetime_2, dtype: int64"
            ]
          },
          "metadata": {},
          "execution_count": 51
        }
      ]
    },
    {
      "cell_type": "code",
      "source": [
        "# contando quandos locações\n",
        "#Quantas locações de bicicletas foram efetuadas em 2011? \n",
        "#Quantas locações de bicicletas foram efetuadas em 2011? \n",
        "\n",
        "df.groupby(by=df['datetime_2'].dt.year)['total_count'].sum()"
      ],
      "metadata": {
        "colab": {
          "base_uri": "https://localhost:8080/"
        },
        "id": "GguWE0p8gUWO",
        "outputId": "1366d967-cf7a-4a90-e802-b6ab4f8acce3"
      },
      "execution_count": 52,
      "outputs": [
        {
          "output_type": "execute_result",
          "data": {
            "text/plain": [
              "datetime_2\n",
              "2011    1243103\n",
              "2012    2049576\n",
              "Name: total_count, dtype: int64"
            ]
          },
          "metadata": {},
          "execution_count": 52
        }
      ]
    },
    {
      "cell_type": "code",
      "source": [
        "#ordernar locações por estações do ano (season) pelo total \n",
        "#Qual estação do ano contém a maior média de locações de bicicletas?  3\n",
        "df.groupby(by='season')['total_count'].sum().sort_values()"
      ],
      "metadata": {
        "colab": {
          "base_uri": "https://localhost:8080/"
        },
        "id": "JynO-G4thAt-",
        "outputId": "9d912c42-7a38-4ddd-c4f2-776b97bb88f1"
      },
      "execution_count": 53,
      "outputs": [
        {
          "output_type": "execute_result",
          "data": {
            "text/plain": [
              "season\n",
              "1     471348\n",
              "4     841613\n",
              "2     918589\n",
              "3    1061129\n",
              "Name: total_count, dtype: int64"
            ]
          },
          "metadata": {},
          "execution_count": 53
        }
      ]
    },
    {
      "cell_type": "code",
      "source": [
        "#ordernar locações por estações do ano (season) por média\n",
        "#Qual estação do ano contém a menor média de locações de bicicletas?\n",
        "df.groupby(by='season')['total_count'].mean().sort_values()"
      ],
      "metadata": {
        "colab": {
          "base_uri": "https://localhost:8080/"
        },
        "id": "IjHom6JXjBPb",
        "outputId": "ce677608-df8d-463d-d7dd-ee65eb874409"
      },
      "execution_count": 54,
      "outputs": [
        {
          "output_type": "execute_result",
          "data": {
            "text/plain": [
              "season\n",
              "1    111.114569\n",
              "4    198.868856\n",
              "2    208.344069\n",
              "3    236.016237\n",
              "Name: total_count, dtype: float64"
            ]
          },
          "metadata": {},
          "execution_count": 54
        }
      ]
    },
    {
      "cell_type": "code",
      "source": [
        "# soma de locações por horario\n",
        "#qual horário do dia contém a maior média de locações de bicicletas?  17h\n",
        "#Qual horário do dia contém a menor média de locações de bicicletas? 4h\n",
        "df.groupby(by='hour')['total_count'].mean().sort_values()"
      ],
      "metadata": {
        "colab": {
          "base_uri": "https://localhost:8080/"
        },
        "id": "OOTochgfjxd0",
        "outputId": "82855dce-421d-467a-e80c-fb244befa403"
      },
      "execution_count": 55,
      "outputs": [
        {
          "output_type": "execute_result",
          "data": {
            "text/plain": [
              "hour\n",
              "4       6.352941\n",
              "3      11.727403\n",
              "5      19.889819\n",
              "2      22.869930\n",
              "1      33.375691\n",
              "0      53.898072\n",
              "6      76.044138\n",
              "23     87.831044\n",
              "22    131.335165\n",
              "21    172.314560\n",
              "10    173.668501\n",
              "11    208.143054\n",
              "7     212.064649\n",
              "9     219.309491\n",
              "20    226.030220\n",
              "14    240.949246\n",
              "15    251.233196\n",
              "12    253.315934\n",
              "13    253.661180\n",
              "19    311.523352\n",
              "16    311.983562\n",
              "8     359.011004\n",
              "18    425.510989\n",
              "17    461.452055\n",
              "Name: total_count, dtype: float64"
            ]
          },
          "metadata": {},
          "execution_count": 55
        }
      ]
    },
    {
      "cell_type": "code",
      "source": [
        "#Que dia da semana contém a maior média de locações de bicicletas? 4\n",
        "#Que dia da semana contém a menor média de locações de bicicletas? 0\n",
        "df.groupby(by='weekday')['total_count'].mean().sort_values()"
      ],
      "metadata": {
        "colab": {
          "base_uri": "https://localhost:8080/"
        },
        "id": "hEqZhP_GkLNP",
        "outputId": "902dbcb6-9d62-4a55-9a5e-f5a60a22a59b"
      },
      "execution_count": 56,
      "outputs": [
        {
          "output_type": "execute_result",
          "data": {
            "text/plain": [
              "weekday\n",
              "0    177.468825\n",
              "1    183.744655\n",
              "6    190.209793\n",
              "3    191.130505\n",
              "2    191.238891\n",
              "5    196.135907\n",
              "4    196.436665\n",
              "Name: total_count, dtype: float64"
            ]
          },
          "metadata": {},
          "execution_count": 56
        }
      ]
    },
    {
      "cell_type": "code",
      "source": [
        "# primeiro foi feito o filtro no dataframe df.loc[df['weekday']==3] , depois agrupado por hour e pegando a média, ordenando os valors por ordem descendente\n",
        "#Às quartas-feiras (weekday = 3), qual o horário do dia contém a maior média de locações de bicicletas? 17h\n",
        "df.loc[df['weekday']==3].groupby(by='hour')['total_count'].mean().sort_values(ascending=False)"
      ],
      "metadata": {
        "colab": {
          "base_uri": "https://localhost:8080/"
        },
        "id": "gtA-dpsFkjx5",
        "outputId": "04f3131d-9385-4b4f-e500-d4e3c63b23f2"
      },
      "execution_count": 57,
      "outputs": [
        {
          "output_type": "execute_result",
          "data": {
            "text/plain": [
              "hour\n",
              "17    513.144231\n",
              "18    494.029126\n",
              "8     488.326923\n",
              "19    357.504854\n",
              "7     303.980769\n",
              "16    272.961538\n",
              "20    256.660194\n",
              "9     238.528846\n",
              "21    194.669903\n",
              "12    193.903846\n",
              "13    185.826923\n",
              "15    181.288462\n",
              "14    170.548077\n",
              "11    152.201923\n",
              "22    143.689320\n",
              "10    131.894231\n",
              "6     107.807692\n",
              "23     83.737864\n",
              "0      34.557692\n",
              "5      25.750000\n",
              "1      15.336538\n",
              "2       7.813725\n",
              "4       4.968750\n",
              "3       4.888889\n",
              "Name: total_count, dtype: float64"
            ]
          },
          "metadata": {},
          "execution_count": 57
        }
      ]
    },
    {
      "cell_type": "code",
      "source": [
        "#Aos sábados (weekday = 6), qual o horário do dia contém a maior média de locações de bicicletas? \n",
        "df.loc[df['weekday']==6].groupby(by='hour')['total_count'].mean().sort_values(ascending=False)"
      ],
      "metadata": {
        "colab": {
          "base_uri": "https://localhost:8080/"
        },
        "id": "8AwcHgtXk_bE",
        "outputId": "d0778dac-dc74-4bdb-f866-e4d9f858d033"
      },
      "execution_count": 58,
      "outputs": [
        {
          "output_type": "execute_result",
          "data": {
            "text/plain": [
              "hour\n",
              "13    385.371429\n",
              "15    382.428571\n",
              "14    381.333333\n",
              "12    375.380952\n",
              "16    366.142857\n",
              "17    334.409524\n",
              "11    328.609524\n",
              "18    292.048077\n",
              "10    263.723810\n",
              "19    239.932692\n",
              "9     186.790476\n",
              "20    180.865385\n",
              "21    156.000000\n",
              "22    139.663462\n",
              "23    115.855769\n",
              "8     114.476190\n",
              "0      94.304762\n",
              "1      67.780952\n",
              "2      50.495238\n",
              "7      45.961905\n",
              "3      22.885714\n",
              "6      21.000000\n",
              "5       8.291262\n",
              "4       7.657143\n",
              "Name: total_count, dtype: float64"
            ]
          },
          "metadata": {},
          "execution_count": 58
        }
      ]
    }
  ]
}